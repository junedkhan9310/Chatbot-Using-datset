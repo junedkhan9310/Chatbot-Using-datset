{
  "cells": [
    {
      "cell_type": "markdown",
      "metadata": {
        "id": "view-in-github",
        "colab_type": "text"
      },
      "source": [
        "<a href=\"https://colab.research.google.com/github/junedkhan9310/Chatbot-Using-datset/blob/main/chatbot_using_dataset.ipynb\" target=\"_parent\"><img src=\"https://colab.research.google.com/assets/colab-badge.svg\" alt=\"Open In Colab\"/></a>"
      ]
    },
    {
      "cell_type": "code",
      "execution_count": null,
      "metadata": {
        "id": "lIAh7gOv3Fcz"
      },
      "outputs": [],
      "source": [
        "import numpy as np\n",
        "import nltk\n",
        "import random\n",
        "import string"
      ]
    },
    {
      "cell_type": "code",
      "execution_count": null,
      "metadata": {
        "id": "5JtB0Z3P5C78"
      },
      "outputs": [],
      "source": [
        "f= open('/content/data.txt','r',errors='ignore')\n",
        "raw_doc=f.read()"
      ]
    },
    {
      "cell_type": "code",
      "execution_count": null,
      "metadata": {
        "colab": {
          "base_uri": "https://localhost:8080/",
          "height": 140
        },
        "id": "_ntUYc4d6VxO",
        "outputId": "56b9b911-be9a-4884-d9d0-9da778dd88d3"
      },
      "outputs": [
        {
          "output_type": "execute_result",
          "data": {
            "text/plain": [
              "'what is a database?\\na database is information that is set up for easy access, management and updating. computer databases typically store aggregations of data records or files that contain information, such as sales transactions, customer data, financials and product information.\\n\\ndatabases are used for storing, maintaining and accessing any sort of data. they collect information on people, places or things. that information is gathered in one place so that it can be observed and analyzed. databases can be thought of as an organized collection of information.\\n\\nwhat are databases used for?\\nbusinesses use data stored in databases to make informed business decisions. some of the ways organizations use databases include the following:\\n\\nimprove business processes. companies collect data about business processes, such sales, order processing and customer service. they analyze that data to improve these processes, expand their business and grow revenue.\\nkeep track of customers. databases often store information about people, such as customers or users. for example, social media platforms use databases to store user information, such as names, email addresses and user behavior. the data is used to recommend content to users and improve the user experience.\\nsecure personal health information. healthcare providers use databases to securely store personal health data to inform and improve patient care.\\nstore personal data. databases can also be used to store personal information. for example, personal cloud storage is available for individual users to store media, such as photos, in a managed cloud.\\nevolution of databases\\ndatabases were first created in the 1960s. these early databases were network models where each record is related to many primary and secondary records. hierarchical databases were also among the early models. they have tree schemas with a root directory of records linked to several subdirectories.\\n\\nrelational databases were developed in the 1970s. object-oriented databases came next in the 1980s. today, we use structured query language (sql), nosql and cloud databases.\\n\\n\\ne.f. codd created the relational database while at ibm. it became the standard for database systems because of its logical schema, or the way it is organized. the use of a logical schema separates the relational database from physical storage.\\n\\nthe relational database, combined with the growth of the internet beginning in the mid-1990s, led to a proliferation of databases. many business and consumer applications rely on databases.\\n\\ntypes of databases\\nthere are many types of databases. they may be classified according to content type: bibliographic, full text, numeric and images. in computing, databases are often classified based on the organizational approach they use.\\n\\nsome of the main organizational databases include the following:\\n\\nrelational. this tabular approach defines data so it can be reorganized and accessed in many ways. relational databases are comprised of tables. data is placed into predefined categories in those tables. each table has columns with at least one data category, and rows that have a certain data instance for the categories which are defined in the columns. information in a relational database about a specific customer is organized into rows, columns and tables. these are indexed to make it easier to search using sql or nosql queries.\\n\\nrelational databases use sql in their user and application program interfaces. a new data category can easily be added to a relational database without having to change the existing applications. a relational database management system (rdbms) is used to store, manage, query and retrieve data in a relational database.\\n\\ntypically, the rdbms gives users the ability to control read/write access, specify report generation and analyze use. some databases offer atomicity, consistency, isolation and durability, or acid, compliance to guarantee that data is consistent and that transactions are complete.\\n\\n\\ndistributed. this database stores records or files in several physical locations. data processing is also spread out and replicated across different parts of the network.\\n\\ndistributed databases can be homogeneous, where all physical locations have the same underlying hardware and run the same operating systems and database applications. they can also be heterogeneous. in those cases, the hardware, os and database applications can be different in the various locations.\\n\\ncloud. these databases are built in a public, private or hybrid cloud for a virtualized environment. users are charged based on how much storage and bandwidth they use. they also get scalability on demand and high availability. these databases can work with applications deployed as software as a service.\\n\\nnosql. nosql databases are good when dealing with large collections of distributed data. they can address big data performance issues better than relational databases. they also do well analyzing large unstructured data sets and data on virtual servers in the cloud. these databases can also be called non-relational databases.\\n\\nobject-oriented. these databases hold data created using object-oriented programming languages. they focus on organizing objects rather than actions and data rather than logic. for instance, an image data record would be a data object, rather than an alphanumeric value.\\n\\ngraph. these databases are a type of nosql database. they store, map and query relationships using concepts from graph theory. graph databases are made up of nodes and edges. nodes are entities and connect the nodes.\\n\\nthese databases are often used to analyze interconnections. graph databases are often used to analyze data about customers as they interact with a business on webpages and in social media.\\n\\ngraph databases use sparql, a declarative programming language and protocol, for analytics. sparql can perform all the analytics that sql can perform, and can also be used for semantic analysis, or the examination of relationships. this makes it useful for performing analytics on data sets that have both structured and unstructured data. sparql lets users perform analytics on information stored in a relational database, as well as friend-of-a-friend relationships, pagerank and shortest path.\\n\\ntable comparing graph and relational databases\\nsee how graph and relational databases compare.\\nwhat are the components of a database?\\nwhile the different types of databases vary in schema, data structure and data types most suited to them, they are all comprised of the same five basic components.\\n\\nhardware. this is the physical device that database software runs on. database hardware includes computers, servers and hard drives.\\nsoftware. database software or application gives users control of the database. database management system (dbms) software is used to manage and control databases.\\ndata. this is the raw information that the database stores. database administrators organize the data to make it more meaningful.\\ndata access language. this is the programming language that controls the database. the programming language and the dbms must work together. one of the most common database languages is sql.\\nprocedures. these rules determine how the database works and how it handles the data.\\nwhat are database challenges?\\nsetting up, operating and maintaining a database has some common challenges, such as the following:\\n\\ndata security is required because data is a valuable business asset. protecting data stores requires skilled cybersecurity staff, which can be costly.\\ndata integrity ensures data is trustworthy. it is not always easy to achieve data integrity because it means restricting access to databases to only those qualified to handle it.\\ndatabase performance requires regular database updates and maintenance. without the proper support, database functionality can decline as the technology supporting the database changes or as the data it contains changes.\\ndatabase integration can also be difficult. it can involve integrating data sources from varying types of databases and structures into a single database or into data lakes and data warehouses.\\n'"
            ],
            "application/vnd.google.colaboratory.intrinsic+json": {
              "type": "string"
            }
          },
          "metadata": {},
          "execution_count": 9
        }
      ],
      "source": [
        "raw_doc"
      ]
    },
    {
      "cell_type": "markdown",
      "metadata": {
        "id": "kImNvULS-kjf"
      },
      "source": []
    },
    {
      "cell_type": "code",
      "execution_count": null,
      "metadata": {
        "colab": {
          "base_uri": "https://localhost:8080/"
        },
        "id": "Qce1OJU15DaS",
        "outputId": "189a082e-3516-460b-c62d-ea45c2859b95"
      },
      "outputs": [
        {
          "output_type": "stream",
          "name": "stderr",
          "text": [
            "[nltk_data] Downloading package punkt to /root/nltk_data...\n",
            "[nltk_data]   Package punkt is already up-to-date!\n",
            "[nltk_data] Downloading package wordnet to /root/nltk_data...\n",
            "[nltk_data]   Package wordnet is already up-to-date!\n",
            "[nltk_data] Downloading package omw-1.4 to /root/nltk_data...\n",
            "[nltk_data]   Package omw-1.4 is already up-to-date!\n"
          ]
        },
        {
          "output_type": "execute_result",
          "data": {
            "text/plain": [
              "True"
            ]
          },
          "metadata": {},
          "execution_count": 10
        }
      ],
      "source": [
        "raw_doc=raw_doc.lower() #covert to lower\n",
        "nltk.download('punkt') #using punkt tokenizer\n",
        "nltk.download('wordnet') #using the wordnet dictionary\n",
        "nltk.download('omw-1.4')"
      ]
    },
    {
      "cell_type": "code",
      "execution_count": null,
      "metadata": {
        "colab": {
          "base_uri": "https://localhost:8080/",
          "height": 140
        },
        "id": "1Mycvsj05DdE",
        "outputId": "82c75371-4914-4241-ea18-8a148d7a915a"
      },
      "outputs": [
        {
          "output_type": "execute_result",
          "data": {
            "text/plain": [
              "'what is a database?\\na database is information that is set up for easy access, management and updating. computer databases typically store aggregations of data records or files that contain information, such as sales transactions, customer data, financials and product information.\\n\\ndatabases are used for storing, maintaining and accessing any sort of data. they collect information on people, places or things. that information is gathered in one place so that it can be observed and analyzed. databases can be thought of as an organized collection of information.\\n\\nwhat are databases used for?\\nbusinesses use data stored in databases to make informed business decisions. some of the ways organizations use databases include the following:\\n\\nimprove business processes. companies collect data about business processes, such sales, order processing and customer service. they analyze that data to improve these processes, expand their business and grow revenue.\\nkeep track of customers. databases often store information about people, such as customers or users. for example, social media platforms use databases to store user information, such as names, email addresses and user behavior. the data is used to recommend content to users and improve the user experience.\\nsecure personal health information. healthcare providers use databases to securely store personal health data to inform and improve patient care.\\nstore personal data. databases can also be used to store personal information. for example, personal cloud storage is available for individual users to store media, such as photos, in a managed cloud.\\nevolution of databases\\ndatabases were first created in the 1960s. these early databases were network models where each record is related to many primary and secondary records. hierarchical databases were also among the early models. they have tree schemas with a root directory of records linked to several subdirectories.\\n\\nrelational databases were developed in the 1970s. object-oriented databases came next in the 1980s. today, we use structured query language (sql), nosql and cloud databases.\\n\\n\\ne.f. codd created the relational database while at ibm. it became the standard for database systems because of its logical schema, or the way it is organized. the use of a logical schema separates the relational database from physical storage.\\n\\nthe relational database, combined with the growth of the internet beginning in the mid-1990s, led to a proliferation of databases. many business and consumer applications rely on databases.\\n\\ntypes of databases\\nthere are many types of databases. they may be classified according to content type: bibliographic, full text, numeric and images. in computing, databases are often classified based on the organizational approach they use.\\n\\nsome of the main organizational databases include the following:\\n\\nrelational. this tabular approach defines data so it can be reorganized and accessed in many ways. relational databases are comprised of tables. data is placed into predefined categories in those tables. each table has columns with at least one data category, and rows that have a certain data instance for the categories which are defined in the columns. information in a relational database about a specific customer is organized into rows, columns and tables. these are indexed to make it easier to search using sql or nosql queries.\\n\\nrelational databases use sql in their user and application program interfaces. a new data category can easily be added to a relational database without having to change the existing applications. a relational database management system (rdbms) is used to store, manage, query and retrieve data in a relational database.\\n\\ntypically, the rdbms gives users the ability to control read/write access, specify report generation and analyze use. some databases offer atomicity, consistency, isolation and durability, or acid, compliance to guarantee that data is consistent and that transactions are complete.\\n\\n\\ndistributed. this database stores records or files in several physical locations. data processing is also spread out and replicated across different parts of the network.\\n\\ndistributed databases can be homogeneous, where all physical locations have the same underlying hardware and run the same operating systems and database applications. they can also be heterogeneous. in those cases, the hardware, os and database applications can be different in the various locations.\\n\\ncloud. these databases are built in a public, private or hybrid cloud for a virtualized environment. users are charged based on how much storage and bandwidth they use. they also get scalability on demand and high availability. these databases can work with applications deployed as software as a service.\\n\\nnosql. nosql databases are good when dealing with large collections of distributed data. they can address big data performance issues better than relational databases. they also do well analyzing large unstructured data sets and data on virtual servers in the cloud. these databases can also be called non-relational databases.\\n\\nobject-oriented. these databases hold data created using object-oriented programming languages. they focus on organizing objects rather than actions and data rather than logic. for instance, an image data record would be a data object, rather than an alphanumeric value.\\n\\ngraph. these databases are a type of nosql database. they store, map and query relationships using concepts from graph theory. graph databases are made up of nodes and edges. nodes are entities and connect the nodes.\\n\\nthese databases are often used to analyze interconnections. graph databases are often used to analyze data about customers as they interact with a business on webpages and in social media.\\n\\ngraph databases use sparql, a declarative programming language and protocol, for analytics. sparql can perform all the analytics that sql can perform, and can also be used for semantic analysis, or the examination of relationships. this makes it useful for performing analytics on data sets that have both structured and unstructured data. sparql lets users perform analytics on information stored in a relational database, as well as friend-of-a-friend relationships, pagerank and shortest path.\\n\\ntable comparing graph and relational databases\\nsee how graph and relational databases compare.\\nwhat are the components of a database?\\nwhile the different types of databases vary in schema, data structure and data types most suited to them, they are all comprised of the same five basic components.\\n\\nhardware. this is the physical device that database software runs on. database hardware includes computers, servers and hard drives.\\nsoftware. database software or application gives users control of the database. database management system (dbms) software is used to manage and control databases.\\ndata. this is the raw information that the database stores. database administrators organize the data to make it more meaningful.\\ndata access language. this is the programming language that controls the database. the programming language and the dbms must work together. one of the most common database languages is sql.\\nprocedures. these rules determine how the database works and how it handles the data.\\nwhat are database challenges?\\nsetting up, operating and maintaining a database has some common challenges, such as the following:\\n\\ndata security is required because data is a valuable business asset. protecting data stores requires skilled cybersecurity staff, which can be costly.\\ndata integrity ensures data is trustworthy. it is not always easy to achieve data integrity because it means restricting access to databases to only those qualified to handle it.\\ndatabase performance requires regular database updates and maintenance. without the proper support, database functionality can decline as the technology supporting the database changes or as the data it contains changes.\\ndatabase integration can also be difficult. it can involve integrating data sources from varying types of databases and structures into a single database or into data lakes and data warehouses.\\n'"
            ],
            "application/vnd.google.colaboratory.intrinsic+json": {
              "type": "string"
            }
          },
          "metadata": {},
          "execution_count": 11
        }
      ],
      "source": [
        "raw_doc"
      ]
    },
    {
      "cell_type": "code",
      "execution_count": null,
      "metadata": {
        "id": "9z1prgKg7bac"
      },
      "outputs": [],
      "source": [
        "sentence_tokens= nltk.sent_tokenize(raw_doc) #converting to tokens(sentences)\n",
        "word_tokens=nltk.word_tokenize(raw_doc) #converting to token (words)"
      ]
    },
    {
      "cell_type": "code",
      "execution_count": null,
      "metadata": {
        "colab": {
          "base_uri": "https://localhost:8080/"
        },
        "id": "7qQkb55w7unZ",
        "outputId": "56bbd0c7-23fe-4080-9811-de30a0f6f087"
      },
      "outputs": [
        {
          "output_type": "execute_result",
          "data": {
            "text/plain": [
              "['what is a database?',\n",
              " 'a database is information that is set up for easy access, management and updating.',\n",
              " 'computer databases typically store aggregations of data records or files that contain information, such as sales transactions, customer data, financials and product information.',\n",
              " 'databases are used for storing, maintaining and accessing any sort of data.',\n",
              " 'they collect information on people, places or things.']"
            ]
          },
          "metadata": {},
          "execution_count": 13
        }
      ],
      "source": [
        "sentence_tokens[:5]"
      ]
    },
    {
      "cell_type": "code",
      "execution_count": null,
      "metadata": {
        "colab": {
          "base_uri": "https://localhost:8080/"
        },
        "id": "tAAad5so7waB",
        "outputId": "bbe74879-7797-4ad3-c07d-9f82c8af12fb"
      },
      "outputs": [
        {
          "output_type": "execute_result",
          "data": {
            "text/plain": [
              "['what', 'is', 'a', 'database', '?']"
            ]
          },
          "metadata": {},
          "execution_count": 17
        }
      ],
      "source": [
        "word_tokens[:5]"
      ]
    },
    {
      "cell_type": "code",
      "execution_count": null,
      "metadata": {
        "id": "fmyGENs48RMn"
      },
      "outputs": [],
      "source": [
        "lemmer = nltk.stem.WordNetLemmatizer()\n",
        "def LemTokens(tokens):\n",
        "  return [lemmer.lemmatize(token) for token in tokens]\n",
        "remove_punc_dict = dict((ord(punct),None) for punct in string.punctuation)\n",
        "def LemNormalize(text):\n",
        "  return LemTokens(nltk.word_tokenize(text.lower().translate(remove_punc_dict)))\n"
      ]
    },
    {
      "cell_type": "code",
      "execution_count": null,
      "metadata": {
        "id": "nkv8VkCJ9-Rw"
      },
      "outputs": [],
      "source": [
        "greet_inputs=('hi','hello','how are you','wassup')\n",
        "greet_responses = ('hello','hi','what can i help you with',\"what's the problem\")\n",
        "def greet(sentence):\n",
        "  for word in sentence.split():\n",
        "    if word.lower() in greet_inputs:\n",
        "      return random.choice(greet_responses)\n"
      ]
    },
    {
      "cell_type": "code",
      "execution_count": null,
      "metadata": {
        "id": "8cvZBEav8dx_"
      },
      "outputs": [],
      "source": [
        "#intelligence of bot\n",
        "from sklearn.feature_extraction.text import TfidfVectorizer #converting text to vector\n",
        "from sklearn.metrics.pairwise import cosine_similarity #comparing two vector in cosine and taking the closest angle diffrent in them\n"
      ]
    },
    {
      "cell_type": "code",
      "execution_count": null,
      "metadata": {
        "id": "71cAOQvtA9JW"
      },
      "outputs": [],
      "source": [
        "def response(user_response):\n",
        "  robo1_response = ''\n",
        "  TfidfVec = TfidfVectorizer(tokenizer=LemNormalize, stop_words='english')\n",
        "  tfidf = TfidfVec.fit_transform(sentence_tokens)  # Fixed 'fit_transform' typo\n",
        "  vals = cosine_similarity(tfidf[-1], tfidf)\n",
        "  idx = vals.argsort()[0][-2]\n",
        "  flat = vals.flatten()\n",
        "  flat.sort()  # Fixed 'srot' typo to 'sort'\n",
        "  req_tfidf = flat[-2]\n",
        "\n",
        "  if req_tfidf == 0:\n",
        "    robo1_response = robo1_response + \"I am sorry. Unable to understand.\"  # Added space and corrected message\n",
        "    return robo1_response\n",
        "  else:\n",
        "    robo1_response = robo1_response + sentence_tokens[idx]\n",
        "    return robo1_response\n"
      ]
    },
    {
      "cell_type": "code",
      "execution_count": null,
      "metadata": {
        "colab": {
          "base_uri": "https://localhost:8080/",
          "height": 532
        },
        "id": "djsEJhUCh3CM",
        "outputId": "c299a1db-20f2-407b-d87b-e033fe543d82"
      },
      "outputs": [
        {
          "output_type": "stream",
          "name": "stdout",
          "text": [
            "hello this is disaster robot how can i helo you /to end type by/\n",
            "hi\n",
            "botwhat's the problem\n",
            "animals what is\n",
            "bot:"
          ]
        },
        {
          "output_type": "stream",
          "name": "stderr",
          "text": [
            "/usr/local/lib/python3.10/dist-packages/sklearn/feature_extraction/text.py:528: UserWarning: The parameter 'token_pattern' will not be used since 'tokenizer' is not None'\n",
            "  warnings.warn(\n",
            "/usr/local/lib/python3.10/dist-packages/sklearn/feature_extraction/text.py:409: UserWarning: Your stop_words may be inconsistent with your preprocessing. Tokenizing the stop words generated tokens ['ha', 'le', 'u', 'wa'] not in stop_words.\n",
            "  warnings.warn(\n"
          ]
        },
        {
          "output_type": "stream",
          "name": "stdout",
          "text": [
            "I am sorry. Unable to understand.\n"
          ]
        },
        {
          "output_type": "error",
          "ename": "KeyboardInterrupt",
          "evalue": "Interrupted by user",
          "traceback": [
            "\u001b[0;31m---------------------------------------------------------------------------\u001b[0m",
            "\u001b[0;31mKeyboardInterrupt\u001b[0m                         Traceback (most recent call last)",
            "\u001b[0;32m<ipython-input-22-2ca50d2fb9f7>\u001b[0m in \u001b[0;36m<cell line: 3>\u001b[0;34m()\u001b[0m\n\u001b[1;32m      2\u001b[0m \u001b[0mprint\u001b[0m\u001b[0;34m(\u001b[0m\u001b[0;34m\"hello this is disaster robot how can i helo you /to end type by/\"\u001b[0m\u001b[0;34m)\u001b[0m\u001b[0;34m\u001b[0m\u001b[0;34m\u001b[0m\u001b[0m\n\u001b[1;32m      3\u001b[0m \u001b[0;32mwhile\u001b[0m\u001b[0;34m(\u001b[0m\u001b[0mflag\u001b[0m\u001b[0;34m==\u001b[0m\u001b[0;32mTrue\u001b[0m\u001b[0;34m)\u001b[0m\u001b[0;34m:\u001b[0m\u001b[0;34m\u001b[0m\u001b[0;34m\u001b[0m\u001b[0m\n\u001b[0;32m----> 4\u001b[0;31m   \u001b[0muser_response\u001b[0m \u001b[0;34m=\u001b[0m \u001b[0minput\u001b[0m\u001b[0;34m(\u001b[0m\u001b[0;34m)\u001b[0m\u001b[0;34m\u001b[0m\u001b[0;34m\u001b[0m\u001b[0m\n\u001b[0m\u001b[1;32m      5\u001b[0m   \u001b[0muser_response\u001b[0m \u001b[0;34m=\u001b[0m \u001b[0muser_response\u001b[0m\u001b[0;34m.\u001b[0m \u001b[0mlower\u001b[0m\u001b[0;34m(\u001b[0m\u001b[0;34m)\u001b[0m\u001b[0;34m\u001b[0m\u001b[0;34m\u001b[0m\u001b[0m\n\u001b[1;32m      6\u001b[0m   \u001b[0;32mif\u001b[0m\u001b[0;34m(\u001b[0m\u001b[0muser_response\u001b[0m \u001b[0;34m!=\u001b[0m \u001b[0;34m'bye'\u001b[0m\u001b[0;34m)\u001b[0m\u001b[0;34m:\u001b[0m\u001b[0;34m\u001b[0m\u001b[0;34m\u001b[0m\u001b[0m\n",
            "\u001b[0;32m/usr/local/lib/python3.10/dist-packages/ipykernel/kernelbase.py\u001b[0m in \u001b[0;36mraw_input\u001b[0;34m(self, prompt)\u001b[0m\n\u001b[1;32m    849\u001b[0m                 \u001b[0;34m\"raw_input was called, but this frontend does not support input requests.\"\u001b[0m\u001b[0;34m\u001b[0m\u001b[0;34m\u001b[0m\u001b[0m\n\u001b[1;32m    850\u001b[0m             )\n\u001b[0;32m--> 851\u001b[0;31m         return self._input_request(str(prompt),\n\u001b[0m\u001b[1;32m    852\u001b[0m             \u001b[0mself\u001b[0m\u001b[0;34m.\u001b[0m\u001b[0m_parent_ident\u001b[0m\u001b[0;34m,\u001b[0m\u001b[0;34m\u001b[0m\u001b[0;34m\u001b[0m\u001b[0m\n\u001b[1;32m    853\u001b[0m             \u001b[0mself\u001b[0m\u001b[0;34m.\u001b[0m\u001b[0m_parent_header\u001b[0m\u001b[0;34m,\u001b[0m\u001b[0;34m\u001b[0m\u001b[0;34m\u001b[0m\u001b[0m\n",
            "\u001b[0;32m/usr/local/lib/python3.10/dist-packages/ipykernel/kernelbase.py\u001b[0m in \u001b[0;36m_input_request\u001b[0;34m(self, prompt, ident, parent, password)\u001b[0m\n\u001b[1;32m    893\u001b[0m             \u001b[0;32mexcept\u001b[0m \u001b[0mKeyboardInterrupt\u001b[0m\u001b[0;34m:\u001b[0m\u001b[0;34m\u001b[0m\u001b[0;34m\u001b[0m\u001b[0m\n\u001b[1;32m    894\u001b[0m                 \u001b[0;31m# re-raise KeyboardInterrupt, to truncate traceback\u001b[0m\u001b[0;34m\u001b[0m\u001b[0;34m\u001b[0m\u001b[0m\n\u001b[0;32m--> 895\u001b[0;31m                 \u001b[0;32mraise\u001b[0m \u001b[0mKeyboardInterrupt\u001b[0m\u001b[0;34m(\u001b[0m\u001b[0;34m\"Interrupted by user\"\u001b[0m\u001b[0;34m)\u001b[0m \u001b[0;32mfrom\u001b[0m \u001b[0;32mNone\u001b[0m\u001b[0;34m\u001b[0m\u001b[0;34m\u001b[0m\u001b[0m\n\u001b[0m\u001b[1;32m    896\u001b[0m             \u001b[0;32mexcept\u001b[0m \u001b[0mException\u001b[0m \u001b[0;32mas\u001b[0m \u001b[0me\u001b[0m\u001b[0;34m:\u001b[0m\u001b[0;34m\u001b[0m\u001b[0;34m\u001b[0m\u001b[0m\n\u001b[1;32m    897\u001b[0m                 \u001b[0mself\u001b[0m\u001b[0;34m.\u001b[0m\u001b[0mlog\u001b[0m\u001b[0;34m.\u001b[0m\u001b[0mwarning\u001b[0m\u001b[0;34m(\u001b[0m\u001b[0;34m\"Invalid Message:\"\u001b[0m\u001b[0;34m,\u001b[0m \u001b[0mexc_info\u001b[0m\u001b[0;34m=\u001b[0m\u001b[0;32mTrue\u001b[0m\u001b[0;34m)\u001b[0m\u001b[0;34m\u001b[0m\u001b[0;34m\u001b[0m\u001b[0m\n",
            "\u001b[0;31mKeyboardInterrupt\u001b[0m: Interrupted by user"
          ]
        }
      ],
      "source": [
        "flag= True\n",
        "print(\"hello this is disaster robot how can i helo you /to end type by/\")\n",
        "while(flag==True):\n",
        "  user_response = input()\n",
        "  user_response = user_response. lower()\n",
        "  if(user_response != 'bye'):\n",
        "    if(user_response =='thank you' or user_response=='thanks'):\n",
        "      flag=False\n",
        "      print(\"Bot: you are welcome...\")\n",
        "    else:\n",
        "      if(greet(user_response) != None):\n",
        "        print('bot'+greet(user_response))\n",
        "      else:\n",
        "        sentence_tokens.append (user_response)\n",
        "        word_tokens = word_tokens + nltk.word_tokenize(user_response)\n",
        "        finals_words = list(set(word_tokens))\n",
        "        print('bot:',end='')\n",
        "        print(response(user_response))\n",
        "        sentence_tokens.remove(user_response)\n",
        "  else:\n",
        "    flag= False\n",
        "    print(\"Bot: goodby\")\n"
      ]
    },
    {
      "cell_type": "code",
      "source": [],
      "metadata": {
        "id": "tCcvn_vuW5t3"
      },
      "execution_count": null,
      "outputs": []
    },
    {
      "cell_type": "code",
      "execution_count": null,
      "metadata": {
        "id": "Og2I-GPtWwXA"
      },
      "outputs": [],
      "source": [
        "\n"
      ]
    },
    {
      "cell_type": "code",
      "source": [],
      "metadata": {
        "id": "KBgw4fwlZDR8"
      },
      "execution_count": null,
      "outputs": []
    }
  ],
  "metadata": {
    "colab": {
      "provenance": [],
      "authorship_tag": "ABX9TyPmD8q/pKsdrpVV3Ckd5Npt",
      "include_colab_link": true
    },
    "kernelspec": {
      "display_name": "Python 3",
      "name": "python3"
    },
    "language_info": {
      "name": "python"
    }
  },
  "nbformat": 4,
  "nbformat_minor": 0
}